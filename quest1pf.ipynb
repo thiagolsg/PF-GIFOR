{
 "cells": [
  {
   "cell_type": "markdown",
   "metadata": {},
   "source": [
    "<h1>Dado uma lista de dicionários (chave/valor) Python, verifique se existe a chave 'nome', e caso exista, salve o valor dessa chave em uma segunda lista, de modo que não haja repetição de valores na segunda lista.</h1>"
   ]
  },
  {
   "cell_type": "markdown",
   "metadata": {},
   "source": [
    "<h3> Crie 3 dicionários com a chave 'nome' em todos eles 2 valores estão iguais para podermos fazer o filtro, adicionei os dicionários em uma lista criando assim uma lista de dicionários </h3>"
   ]
  },
  {
   "cell_type": "code",
   "execution_count": 66,
   "metadata": {},
   "outputs": [
    {
     "data": {
      "text/plain": [
       "[{'Eduardo': 985683746,\n",
       "  'Gabriel': 98701043,\n",
       "  'Miriam': 985683746,\n",
       "  'Thiago': 999455714,\n",
       "  'nome': 999455714},\n",
       " {'Breno': 991497863,\n",
       "  'Gabriel': 983485565,\n",
       "  'Luan': 983336183,\n",
       "  'Lucas': 991447160,\n",
       "  'Tiago': 995129344,\n",
       "  'nome': 999455782},\n",
       " {'Brazer': 981018837,\n",
       "  'Brito': 81004207,\n",
       "  'Daniel': 99055702,\n",
       "  'Gustavo': 981051977,\n",
       "  'Leandro': 996046266,\n",
       "  'Pedro': 981927814,\n",
       "  'nome': 999455714}]"
      ]
     },
     "execution_count": 66,
     "metadata": {},
     "output_type": "execute_result"
    }
   ],
   "source": [
    "\n",
    "list_dict = []\n",
    "random_dict = {'Gabriel': 98701043, 'Thiago': 999455714, 'Miriam': 985683746, 'Eduardo': 985683746, 'nome': 999455714}\n",
    "random_dict1 = {'Tiago': 995129344, 'Luan': 983336183, 'Gabriel': 983485565, 'Lucas': 991447160, 'Breno': 991497863, 'nome': 999455782}\n",
    "random_dict2 = {'Leandro': 996046266, 'Daniel': 99055702, 'Brito': 81004207, 'Brazer': 981018837,'Pedro': 981927814, 'Gustavo': 981051977,'nome': 999455714}\n",
    "\n",
    "list_dict.append(random_dict)\n",
    "list_dict.append(random_dict1)\n",
    "list_dict.append(random_dict2)\n",
    "\n",
    "list_dict"
   ]
  },
  {
   "cell_type": "markdown",
   "metadata": {},
   "source": [
    "<h3> Coloquei todos os valores que estavam na chave 'nome' em uma única lista </h3>"
   ]
  },
  {
   "cell_type": "code",
   "execution_count": 61,
   "metadata": {},
   "outputs": [],
   "source": [
    "list_values = []\n",
    "for i in range(len(list_dict)):\n",
    "    list_values.append(list_dict[i]['nome'])"
   ]
  },
  {
   "cell_type": "code",
   "execution_count": 62,
   "metadata": {},
   "outputs": [
    {
     "data": {
      "text/plain": [
       "[999455714, 999455782, 999455714]"
      ]
     },
     "execution_count": 62,
     "metadata": {},
     "output_type": "execute_result"
    }
   ],
   "source": [
    "list_values"
   ]
  },
  {
   "cell_type": "markdown",
   "metadata": {},
   "source": [
    "<h3> Utilizei a função set para fazer o filtro nos valores repetidos </h3>"
   ]
  },
  {
   "cell_type": "code",
   "execution_count": 68,
   "metadata": {},
   "outputs": [
    {
     "data": {
      "text/plain": [
       "{999455714, 999455782}"
      ]
     },
     "execution_count": 68,
     "metadata": {},
     "output_type": "execute_result"
    }
   ],
   "source": [
    "parse_list = set(list_values)\n",
    "\n",
    "parse_list"
   ]
  },
  {
   "cell_type": "markdown",
   "metadata": {},
   "source": [
    "<h3> Converti a variavel do tipo set para lista e assim criei uma nova lista somente com os valores da chave 'nome' que não se repetem </h3>"
   ]
  },
  {
   "cell_type": "code",
   "execution_count": 69,
   "metadata": {},
   "outputs": [
    {
     "data": {
      "text/plain": [
       "[999455714, 999455782]"
      ]
     },
     "execution_count": 69,
     "metadata": {},
     "output_type": "execute_result"
    }
   ],
   "source": [
    "new_list = list(parse_list)\n",
    "\n",
    "new_list"
   ]
  }
 ],
 "metadata": {
  "kernelspec": {
   "display_name": "Python 3",
   "language": "python",
   "name": "python3"
  },
  "language_info": {
   "codemirror_mode": {
    "name": "ipython",
    "version": 3
   },
   "file_extension": ".py",
   "mimetype": "text/x-python",
   "name": "python",
   "nbconvert_exporter": "python",
   "pygments_lexer": "ipython3",
   "version": "3.5.2"
  }
 },
 "nbformat": 4,
 "nbformat_minor": 4
}
